{
 "cells": [
  {
   "cell_type": "code",
   "execution_count": 1,
   "metadata": {},
   "outputs": [
    {
     "ename": "NameError",
     "evalue": "name 's' is not defined",
     "output_type": "error",
     "traceback": [
      "\u001b[1;31m---------------------------------------------------------------------------\u001b[0m",
      "\u001b[1;31mNameError\u001b[0m                                 Traceback (most recent call last)",
      "Cell \u001b[1;32mIn[1], line 25\u001b[0m\n\u001b[0;32m     23\u001b[0m cv2\u001b[39m.\u001b[39mwaitKey(\u001b[39m0\u001b[39m)\n\u001b[0;32m     24\u001b[0m cv2\u001b[39m.\u001b[39mdestroyAllWindows()\n\u001b[1;32m---> 25\u001b[0m s\n\u001b[0;32m     26\u001b[0m \u001b[39m# Use Closing Operation\u001b[39;00m\n\u001b[0;32m     27\u001b[0m img3\u001b[39m=\u001b[39mcv2\u001b[39m.\u001b[39mmorphologyEx(img1,cv2\u001b[39m.\u001b[39mMORPH_CLOSE,kernel1)\n",
      "\u001b[1;31mNameError\u001b[0m: name 's' is not defined"
     ]
    }
   ],
   "source": [
    "# Developed BY : Kavinraja D\n",
    "# Reg no : 212222240047\n",
    "# Import the necessary packages\n",
    "import cv2\n",
    "import numpy as np\n",
    "import matplotlib.pyplot as plt\n",
    "\n",
    "# Create the Text using cv2.putText\n",
    "img1=np.zeros((300,600),dtype='uint8')\n",
    "font=cv2.FONT_ITALIC\n",
    "img2=cv2.putText(img1,\"Kavinraja D\",(5,100),font,3,(255,0,0),5,cv2.LINE_AA)\n",
    "cv2.imshow(\"Original\",img2)\n",
    "cv2.waitKey(0)\n",
    "cv2.destroyAllWindows()\n",
    "\n",
    "# Create the structuring element\n",
    "kernel1=cv2.getStructuringElement(cv2.MORPH_RECT,(21,21))\n",
    "kernel2=cv2.getStructuringElement(cv2.MORPH_RECT,(9,9))\n",
    "\n",
    "# Use Opening operation\n",
    "img4=cv2.morphologyEx(img1,cv2.MORPH_OPEN,kernel2)\n",
    "cv2.imshow(\"Opening\",img4)\n",
    "cv2.waitKey(0)\n",
    "cv2.destroyAllWindows()\n",
    "s\n",
    "# Use Closing Operation\n",
    "img3=cv2.morphologyEx(img1,cv2.MORPH_CLOSE,kernel1)\n",
    "cv2.imshow(\"Closing\",img3)\n",
    "cv2.waitKey(0)\n",
    "cv2.destroyAllWindows()"
   ]
  }
 ],
 "metadata": {
  "kernelspec": {
   "display_name": "Python 3",
   "language": "python",
   "name": "python3"
  },
  "language_info": {
   "codemirror_mode": {
    "name": "ipython",
    "version": 3
   },
   "file_extension": ".py",
   "mimetype": "text/x-python",
   "name": "python",
   "nbconvert_exporter": "python",
   "pygments_lexer": "ipython3",
   "version": "3.11.0"
  },
  "orig_nbformat": 4
 },
 "nbformat": 4,
 "nbformat_minor": 2
}
